{
 "cells": [
  {
   "cell_type": "markdown",
   "id": "3b59fafb-b42b-4c42-9062-008cf732c0f2",
   "metadata": {},
   "source": [
    "# 01 - Introductie tot GEDI"
   ]
  },
  {
   "cell_type": "markdown",
   "id": "1f91cfcc-0c53-4170-aea4-182aee8dccd1",
   "metadata": {},
   "source": [
    "![](img/GEDI_Overview.jpg)"
   ]
  },
  {
   "cell_type": "markdown",
   "id": "df6e3df6-edf3-4fe4-8f55-8afa9b0144fc",
   "metadata": {},
   "source": [
    "## Over GEDI"
   ]
  },
  {
   "cell_type": "markdown",
   "id": "496c1bab-d273-4a0c-91c9-5d94bbff1591",
   "metadata": {},
   "source": [
    "GEDI - **Globals Ecosystems Dynamics Investigation** - is een lidar (Light Detection and Ranging) instrument dat is ontworpen om gegevens te verzamelen over de structuur en hoogte van vegetatie op aarde. Lidar is een **actieve remote sensing-technologie** die gebruikmaakt van laserpulsen om informatie te verkrijgen over het oppervlak of objecten.\n",
    "\n",
    "\r\n",
    "Het GEDI-instrument is ontwikkeld door NASA en is geïnstalleerd op het International Space Station (ISS). Het maakt gebruik van drie lasers die groene, nabij-infrarode en middel-infrarode laserpulsen uitzenden naar het aardoppervlak. Het instrument meet de tijd die het kost voor de laserpulsen om terug te kaatsen naar het instrument nadat ze de vegetatie hebben bereikt. Hiermee kan GEDI de hoogte van het vegetatieoppervlak nauwkeurig mete Specifiek is GEDI vooral op bos-ecosystemen gericht.\r\n",
    "\r\n",
    "De gegevens die worden verzameld door GEDI kunnen worden gebruikt om een gedetailleerd driedimensionaal beeld te creëren van het aardoppervlak en de vegetatiestructuur. Dit biedt wetenschappers waardevolle informatie over de verticale structuur van bossen, zoals de hoogte van boomtoppen, de dikte van de boslaag en de dichtheid van het bladerdak. Deze gegevens zijn van groot belang voor onderzoek naar bosbeheer, koolstofcyclus, biodiversiteit en ecologische veranderingen.\r\n",
    "\r\n",
    "GEDI heeft verschillende toepassingen en voordelen. Het kan bijvoorbeeld helpen bij het inschatten van de koolstofopslag in bossen,\r\n",
    "\r\n",
    "\r\n"
   ]
  },
  {
   "cell_type": "markdown",
   "id": "077ee2ca-466b-418c-b17c-2a826ab9094e",
   "metadata": {},
   "source": [
    "### GEDI - Space Lidar System"
   ]
  },
  {
   "cell_type": "markdown",
   "id": "07b7c2f5-e0cb-436c-b279-a6d5329d5c54",
   "metadata": {},
   "source": [
    "GEDI is een LiDAR-systeem, dat bevestigt is aan het Internationaal RuimteStation (ISS).  Het stuurt actieve laserstralen uit, met elk een *footprint* (doorsnede) van **25m**."
   ]
  },
  {
   "cell_type": "markdown",
   "id": "321aca1f-a977-40e8-96e1-716feac781e2",
   "metadata": {},
   "source": [
    "!['img/lidar-overview.jpg'](img/lidar-overview.png)"
   ]
  },
  {
   "cell_type": "code",
   "execution_count": null,
   "id": "8d43edfa-5258-4e51-9022-2365c9f689cc",
   "metadata": {},
   "outputs": [],
   "source": []
  },
  {
   "cell_type": "markdown",
   "id": "6b02576a-402d-4fe9-821e-06f4b54764ec",
   "metadata": {},
   "source": [
    "## GEDI data producten"
   ]
  },
  {
   "cell_type": "markdown",
   "id": "5ba504a9-58c5-48a0-959a-0f4c2aaea7e5",
   "metadata": {},
   "source": [
    "GEDI is beschikbaar in verschillend afgeleide producten"
   ]
  },
  {
   "cell_type": "markdown",
   "id": "ad789791-667a-47e2-9a74-48252e033911",
   "metadata": {},
   "source": [
    "|     Level    | Product |                                Beschrijving                                |\r\n",
    "|:------------:|:-------:|:--------------------------------------------------------------------------:|\r\n",
    "|  **Level 1** |    1B   |                      Geolocated waveforms (ruwe data)                      |\r\n",
    "| **Level 2**  |    2A   |       Hoogteligging,   Kroon(top)hoogte, Relative Height (RH) metrics      |\r\n",
    "|              |    2B   | Leaf Area Index (LAI), Canopy Cover Fraction (CCF), Plant Area Index (PAI) |\r\n",
    "|  **Level 3** |    3    |                  Geotiff: Canopy Cover, Canopy Height, LAI                 |\r\n",
    "|  **Level 4** |    4A   |                                     AGB                                    |\r\n",
    "|              |    4B   |                            Geotiff: Gridded AGB                            |"
   ]
  },
  {
   "cell_type": "markdown",
   "id": "e5ff6d95-5d72-4c4c-b39b-162266343579",
   "metadata": {},
   "source": [
    "## Rechtstreeks downloaden van GEDI-data"
   ]
  },
  {
   "cell_type": "markdown",
   "id": "a7ef1b0d-8f0a-4579-9d61-885f3fc2c39a",
   "metadata": {},
   "source": [
    "GEDI wordt gratis ter beschikking gesteld. Het downloaden van de verschillende GEDI-datasets kan op 2 manieren:\n",
    "- [Via een NASA EarthData Search](https://search.earthdata.nasa.gov/search)\n",
    "- Via scripting, meer info: "
   ]
  },
  {
   "cell_type": "markdown",
   "id": "f8e6c801-47d5-48fe-a4de-b675803b043c",
   "metadata": {},
   "source": [
    "### Download GEDI-DATA via NASA EarthData Search"
   ]
  },
  {
   "cell_type": "markdown",
   "id": "d6e82b57-93d3-41da-a9e2-be2a3712e8bd",
   "metadata": {},
   "source": [
    "#### Stap 1 - account aanmaken"
   ]
  },
  {
   "cell_type": "markdown",
   "id": "340b29ce-8bf3-4dee-948b-b4351406ff0a",
   "metadata": {},
   "source": [
    "In een eerste stam moet een (gratis) account worden aangemaakt via [NASA EarthData]().  Klik op [register](https://urs.earthdata.nasa.gov/users/new).\n",
    "\n",
    "Eenmaal een account is aangemaakt, kan er worden ingelogd.\n",
    "\n"
   ]
  },
  {
   "cell_type": "markdown",
   "id": "3ccf8f7b-f60e-465f-9ce1-48a3ceaa36a9",
   "metadata": {},
   "source": [
    "#### Stap 2 - GEDI V2 data zoeken"
   ]
  },
  {
   "cell_type": "markdown",
   "id": "e4ae61df-f845-46aa-836a-9de14d06ca99",
   "metadata": {},
   "source": [
    "Typ in het zoekvenster 'GEDI v002' om de GEDI-datasets te filteren"
   ]
  },
  {
   "cell_type": "markdown",
   "id": "2d709e1a-546b-4511-b7dd-1c85c391e3c1",
   "metadata": {},
   "source": [
    "![EarthData_GEDI.png](img/EarthData_GEDI.png)"
   ]
  },
  {
   "cell_type": "markdown",
   "id": "8d91e1c9-e710-4456-ae22-90256344e5ab",
   "metadata": {},
   "source": [
    "In dit voorbeeld downloaden we een GEDI Level 2A set, kies dus voor deze collectie"
   ]
  },
  {
   "cell_type": "markdown",
   "id": "675ac52a-e096-4514-9f4a-fa50362def1f",
   "metadata": {},
   "source": [
    "#### Stap 3 - Voer een spatio-temporele search uit"
   ]
  },
  {
   "cell_type": "markdown",
   "id": "92ef3f56-c5d4-4732-9edc-11f0ef27e968",
   "metadata": {},
   "source": [
    "Via de filterknoppen kun je een volledige dataset gaan filteren op basis van data en ROI:\n",
    "\n",
    "![filterdata.png](img/filterdate.png)"
   ]
  },
  {
   "cell_type": "markdown",
   "id": "f94c1ee7-d2e1-46e6-b163-ded8621f7d27",
   "metadata": {},
   "source": [
    "Maak gebruik van volgende filters:\n",
    "* Tussen 9 en 11 september 2023\n",
    "* Binnen het gebied van Noord-Saramacca"
   ]
  },
  {
   "cell_type": "markdown",
   "id": "a9f6c68d-5f92-4ca7-b025-19b512e2ce67",
   "metadata": {},
   "source": [
    "![](img/GEDI_search.png)"
   ]
  },
  {
   "cell_type": "markdown",
   "id": "e208b9d4-3d96-483a-8227-94efdc1aca55",
   "metadata": {},
   "source": [
    "Als alles goed gaat, blijft er nog één dataset over. Download deze '.h5'-file naar je data-folder."
   ]
  },
  {
   "cell_type": "markdown",
   "id": "b0a5ef37-e973-42bf-b15b-31e2a9d7b342",
   "metadata": {},
   "source": [
    "## Bronvermelding\n",
    "\n",
    "* GEDI-projectwebsite: [https://gedi.umd.edu/](https://gedi.umd.edu/)\n",
    "* DAAC-ORLN: [https://daac.ornl.gov/resources/workshops/esa-2021-workshop/GEDI_ESA_20210724.pdf](https://daac.ornl.gov/resources/workshops/esa-2021-workshop/GEDI_ESA_20210724.pdf)\n"
   ]
  }
 ],
 "metadata": {
  "kernelspec": {
   "display_name": "Python 3 (ipykernel)",
   "language": "python",
   "name": "python3"
  },
  "language_info": {
   "codemirror_mode": {
    "name": "ipython",
    "version": 3
   },
   "file_extension": ".py",
   "mimetype": "text/x-python",
   "name": "python",
   "nbconvert_exporter": "python",
   "pygments_lexer": "ipython3",
   "version": "3.11.4"
  }
 },
 "nbformat": 4,
 "nbformat_minor": 5
}
