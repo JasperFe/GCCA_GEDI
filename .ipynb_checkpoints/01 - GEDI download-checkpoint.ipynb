{
 "cells": [
  {
   "cell_type": "markdown",
   "id": "61bdaa8a-0bc1-494d-ae3c-6b2fd3bb6e70",
   "metadata": {},
   "source": [
    "# 01 - GEDI-shots vinden en downloaden"
   ]
  },
  {
   "cell_type": "markdown",
   "id": "df6e3df6-edf3-4fe4-8f55-8afa9b0144fc",
   "metadata": {},
   "source": [
    "## Over GEDI"
   ]
  },
  {
   "cell_type": "markdown",
   "id": "496c1bab-d273-4a0c-91c9-5d94bbff1591",
   "metadata": {},
   "source": [
    "GEDI - **Globals Ecosystems Dynamics Investigation** - is een lidar (Light Detection and Ranging) instrument dat is ontworpen om gegevens te verzamelen over de structuur en hoogte van vegetatie op aarde. Lidar is een **actieve remote sensing-technologie** die gebruikmaakt van laserpulsen om informatie te verkrijgen over het oppervlak of objecten.\n",
    "\n",
    "\r\n",
    "Het GEDI-instrument is ontwikkeld door NASA en is geïnstalleerd op het International Space Station (ISS). Het maakt gebruik van drie lasers die groene, nabij-infrarode en middel-infrarode laserpulsen uitzenden naar het aardoppervlak. Het instrument meet de tijd die het kost voor de laserpulsen om terug te kaatsen naar het instrument nadat ze de vegetatie hebben bereikt. Hiermee kan GEDI de hoogte van het vegetatieoppervlak nauwkeurig mete Specifiek is GEDI vooral op bos-ecosystemen gericht.n.\r\n",
    "\r\n",
    "De gegevens die worden verzameld door GEDI kunnen worden gebruikt om een gedetailleerd driedimensionaal beeld te creëren van het aardoppervlak en de vegetatiestructuur. Dit biedt wetenschappers waardevolle informatie over de verticale structuur van bossen, zoals de hoogte van boomtoppen, de dikte van de boslaag en de dichtheid van het bladerdak. Deze gegevens zijn van groot belang voor onderzoek naar bosbeheer, koolstofcyclus, biodiversiteit en ecologische veranderingen.\r\n",
    "\r\n",
    "GEDI heeft verschillende toepassingen en voordelen. Het kan bijvoorbeeld helpen bij het inschatten van de koolstofopslag in bossen,\r\n",
    "\r\n",
    "\r\n"
   ]
  },
  {
   "cell_type": "markdown",
   "id": "077ee2ca-466b-418c-b17c-2a826ab9094e",
   "metadata": {},
   "source": [
    "### LiDAR: situering"
   ]
  },
  {
   "cell_type": "markdown",
   "id": "07b7c2f5-e0cb-436c-b279-a6d5329d5c54",
   "metadata": {},
   "source": [
    "GEDI heeft een footprint van **25m**"
   ]
  },
  {
   "cell_type": "markdown",
   "id": "321aca1f-a977-40e8-96e1-716feac781e2",
   "metadata": {},
   "source": [
    "!['img/lidar-overview.jpg'](img/lidar-overview.png)"
   ]
  },
  {
   "cell_type": "code",
   "execution_count": null,
   "id": "8d43edfa-5258-4e51-9022-2365c9f689cc",
   "metadata": {},
   "outputs": [],
   "source": []
  },
  {
   "cell_type": "markdown",
   "id": "6b02576a-402d-4fe9-821e-06f4b54764ec",
   "metadata": {},
   "source": [
    "## GEDI data producten"
   ]
  },
  {
   "cell_type": "markdown",
   "id": "5ba504a9-58c5-48a0-959a-0f4c2aaea7e5",
   "metadata": {},
   "source": [
    "Op basis van de ruwe data, geeft NASA verschillende afgeleide producten uit:\n",
    "* "
   ]
  },
  {
   "cell_type": "markdown",
   "id": "ad789791-667a-47e2-9a74-48252e033911",
   "metadata": {},
   "source": [
    "| Level         | Product | Beschrijving                                                                   |\r\n",
    "|---------------|---------|--------------------------------------------------------------------------------|\r\n",
    "| **Level 1**   | 1B      | Geolocated waveforms (ruwe data)                                               |\r\n",
    "| **Level 2**:  | 2A    | - Hoogte,  ng - Kroon(top), e - Relative Height (RH) met i        cs       ex (PAI) |\r\n",
    "| **Level 3**   | 3       | Geotiff: - Canopy Cover - Canopy Height - LAI                                  |\r\n",
    "| **Level 4**   | 4A      | AGB                                                                            |\r\n",
    "|               | 4B      | Geotiff: - Gridded AGB                                                         |"
   ]
  }
 ],
 "metadata": {
  "kernelspec": {
   "display_name": "Python 3 (ipykernel)",
   "language": "python",
   "name": "python3"
  },
  "language_info": {
   "codemirror_mode": {
    "name": "ipython",
    "version": 3
   },
   "file_extension": ".py",
   "mimetype": "text/x-python",
   "name": "python",
   "nbconvert_exporter": "python",
   "pygments_lexer": "ipython3",
   "version": "3.11.4"
  }
 },
 "nbformat": 4,
 "nbformat_minor": 5
}
