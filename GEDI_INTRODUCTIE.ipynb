{
 "cells": [
  {
   "cell_type": "markdown",
   "id": "cf811ea3-dee1-4585-b489-f7ba8f26a95d",
   "metadata": {},
   "source": [
    "# 02 - GEDI L2A: test case - Mangroves"
   ]
  },
  {
   "cell_type": "markdown",
   "id": "d6b4ddbf-6bba-4962-aec5-2f3415506039",
   "metadata": {},
   "source": [
    "<div class=\"alert alert-warning\">\n",
    "\n",
    "**GEDI-2A DATA DICTIONARY**:\n",
    "\n",
    "Een referentielijst met alle terminologie van de GEDI-Level 2A shots is te vinden op: [https://lpdaac.usgs.gov/documents/586/gedi_l2a_dictionary_P001_v1.html](https://lpdaac.usgs.gov/documents/586/gedi_l2a_dictionary_P001_v1.html) "
   ]
  },
  {
   "cell_type": "markdown",
   "id": "0b92e85e-7e40-4af6-9a7f-494c5afa4b9b",
   "metadata": {},
   "source": [
    "In onderstaande voorbeelden gaan we dieper in op de visualisatie van een GEDI-Level-2A shots voor het mangrovebos in Saramacca."
   ]
  },
  {
   "cell_type": "markdown",
   "id": "4836ddf1-b654-4f07-a4f2-1f0d07edaf73",
   "metadata": {},
   "source": [
    "### 1. Inladen packages"
   ]
  },
  {
   "cell_type": "code",
   "execution_count": null,
   "id": "3794e00b-7298-4033-bd85-852c371f427f",
   "metadata": {},
   "outputs": [],
   "source": [
    "import os\n",
    "import h5py\n",
    "import numpy as np\n",
    "import pandas as pd\n",
    "import geopandas as gp\n",
    "from shapely.geometry import Point\n",
    "import geoviews as gv\n",
    "from geoviews import opts, tile_sources as gvts\n",
    "import holoviews as hv\n",
    "gv.extension('bokeh', 'matplotlib')"
   ]
  },
  {
   "cell_type": "code",
   "execution_count": null,
   "id": "a4ccfa8a-257b-48c2-9130-79a7b5b53ca3",
   "metadata": {},
   "outputs": [],
   "source": [
    "# Volgende code maakt een link aan van je datafolder, waar je gedownloade GEDI-datafile zou moeten staan\n",
    "dataDir = os.getcwd() + os.sep + 'data' + os.sep"
   ]
  },
  {
   "cell_type": "code",
   "execution_count": null,
   "id": "eaf56929-aa1f-47c3-8986-c5bad4478f74",
   "metadata": {},
   "outputs": [],
   "source": [
    "dataDir"
   ]
  },
  {
   "cell_type": "code",
   "execution_count": null,
   "id": "8ed3a870-8afa-4a31-bc5a-3cf93fb812ef",
   "metadata": {},
   "outputs": [],
   "source": [
    "gediFiles = [g for g in os.listdir(dataDir) if g.startswith('GEDI02_A') and g.endswith('.h5')]  # List all GEDI L1B .h5 files in inDir\n",
    "gediFiles"
   ]
  },
  {
   "cell_type": "markdown",
   "id": "8d98e01a-2df8-493f-a4f9-fc27221e40ec",
   "metadata": {},
   "source": [
    "Hier zie en onmiddellijk het formaat van een GEDI-dataset: "
   ]
  },
  {
   "cell_type": "markdown",
   "id": "001fb03b-81d9-4d24-98dd-f73a96c1f1a3",
   "metadata": {},
   "source": [
    "> **GEDI02_A**: Naam van GEDI product\n",
    "**2019170155833**: Datum en tijd van opname volgens Juliaanse notatie (YYYYDDDHHMMSS)  \n",
    "**O02932**: Orbit Number\n",
    "**02**: Sub-Orbit Granule Number (1-4)  \n",
    "**T02267**: Track Number (Reference Ground Track)  \n",
    "**02**: Positioning and Pointing Determination System (PPDS) type (00 is predict, 01 rapid, 02 and higher is final)  \n",
    "**003**: PGE Version Number  \n",
    "**01**: Granule Production Version  \n",
    "**V002**: Product Version"
   ]
  },
  {
   "cell_type": "code",
   "execution_count": null,
   "id": "4a814d06-dfb9-4715-bb40-24fa2e9f5f98",
   "metadata": {},
   "outputs": [],
   "source": [
    "L2A = gediFiles[0]"
   ]
  },
  {
   "cell_type": "markdown",
   "id": "e7ae6ff6-06d3-4f2a-b8c5-0014f81581cd",
   "metadata": {},
   "source": [
    "### Inlezen van een HDF5-file"
   ]
  },
  {
   "cell_type": "code",
   "execution_count": null,
   "id": "b769b265-ba29-4b29-8373-5348732345f8",
   "metadata": {},
   "outputs": [],
   "source": [
    "gediL2A = h5py.File('data'+\"\\\\\" + L2A,'r')"
   ]
  },
  {
   "cell_type": "markdown",
   "id": "f5a1e07c-24b5-4186-8ff2-923c9fa60381",
   "metadata": {},
   "source": [
    "### Bekijken van aanwezige *keys*"
   ]
  },
  {
   "cell_type": "code",
   "execution_count": null,
   "id": "7224fc39-8c2a-423d-b52a-65dd9d6ef4f5",
   "metadata": {},
   "outputs": [],
   "source": [
    "beamNames = list(gediL2A.keys())\n",
    "beamNames"
   ]
  },
  {
   "cell_type": "markdown",
   "id": "a343ee39-bea4-41af-b9c2-9694e5c7c94f",
   "metadata": {},
   "source": [
    "Uit de lijst hierboven zie je dat de dataset is onderverdeeld in 8 verschillende 'BEAMS' + een METADATA-file.  \n",
    "\n",
    "Dit is omwille van het feit data GEDI in totaal 8 'shots' maakt per moment, over afstand van 4.2 km.\n",
    "\n",
    "Hiervan zijn de helft van de BEAM's *full power* beams, en de helft *coverage* beams. Het verschil is dat de 'coverage' beams slechts tot 95% in het kronendak penetreren, terwijl de full beams sterkere shots zijn. Zeker voor dense bossen zijn deze type beams niet bruikbaar. Doorgaans wordt aangeraden enkel met de *full power* beams te werken.\n",
    "\n",
    "![img/GEDI_BEAMS.jpg](img\\GEDI_BEAMS.jpg)"
   ]
  },
  {
   "cell_type": "markdown",
   "id": "01d4c629-7ecc-483d-99f6-54af5a053633",
   "metadata": {},
   "source": [
    "Verder kunnen we bekijken welke informatie opgeslagen zit in de metadata:"
   ]
  },
  {
   "cell_type": "code",
   "execution_count": null,
   "id": "1b8beda5-a155-4d0d-9ab6-5b733e56d6b4",
   "metadata": {
    "scrolled": true
   },
   "outputs": [],
   "source": [
    "for g in gediL2A['METADATA']['DatasetIdentification'].attrs: print(g) "
   ]
  },
  {
   "cell_type": "code",
   "execution_count": null,
   "id": "08ae13fa-8f52-46b2-8db2-4bbdbd7f55d2",
   "metadata": {},
   "outputs": [],
   "source": [
    "print(gediL2A['METADATA']['DatasetIdentification'].attrs['purpose'])\n"
   ]
  },
  {
   "cell_type": "markdown",
   "id": "1f72069b-0b34-47a0-8041-5cb95353ba1e",
   "metadata": {},
   "source": [
    "We kunnen de beamnames ook bekijken:"
   ]
  },
  {
   "cell_type": "code",
   "execution_count": null,
   "id": "ec6b7fda-ba8e-4577-8f5a-99bc0abd5c4b",
   "metadata": {},
   "outputs": [],
   "source": [
    "#Zorgen dat enkel de elementen met 'BEAM' overblijven in de lijst\n",
    "beamNames = [g for g in gediL2A.keys() if g.startswith('BEAM')]\n",
    "beamNames"
   ]
  },
  {
   "cell_type": "code",
   "execution_count": null,
   "id": "8b2e0625-87de-468d-9355-53853a2102ab",
   "metadata": {},
   "outputs": [],
   "source": [
    "for b in beamNames: \n",
    "    print(f\"{b} is a {gediL2A[b].attrs['description']}\")\n",
    "    print(f\"{b} has as number {np.unique(gediL2A[b+ '/beam'][()])[0]}\")"
   ]
  },
  {
   "cell_type": "markdown",
   "id": "06f843fc-dbc1-4552-9c88-ee2c033142c2",
   "metadata": {},
   "source": [
    "Vervolgens pikken we hier eentje uit, om verder na te gaan wat in elke BEAM zit opgeslagen"
   ]
  },
  {
   "cell_type": "code",
   "execution_count": null,
   "id": "6c870fe4-a406-4205-94c3-ff837307aff9",
   "metadata": {},
   "outputs": [],
   "source": [
    "beamNames"
   ]
  },
  {
   "cell_type": "code",
   "execution_count": null,
   "id": "89926f9e-ba45-4d6e-906b-21eef35d3313",
   "metadata": {},
   "outputs": [],
   "source": [
    "gediL2A_objs = []\n",
    "gediL2A.visit(gediL2A_objs.append)                                           # Retrieve list of datasets\n",
    "gediSDS = [o for o in gediL2A_objs if isinstance(gediL2A[o], h5py.Dataset)]  # Search for relevant SDS inside data file\n",
    "[i for i in gediSDS if 'BEAM1000' in i][0:10]"
   ]
  },
  {
   "cell_type": "markdown",
   "id": "86924a48-97ea-4055-ba39-9feec55cfdaf",
   "metadata": {},
   "source": []
  },
  {
   "cell_type": "markdown",
   "id": "b072e19a-ebc1-40a7-84b1-3346a24db0a8",
   "metadata": {},
   "source": [
    "## 4. Visualizeren van een GEDI Orbit"
   ]
  },
  {
   "cell_type": "markdown",
   "id": "f4ec3eef-03de-4cde-a5a1-9752052d741a",
   "metadata": {},
   "source": [
    "In onderstaande code halen we de geografische  informatie uit de GEDI SDS (=Science DataSet), wat per beam opgeslagen zit. "
   ]
  },
  {
   "cell_type": "code",
   "execution_count": null,
   "id": "31675681-88ee-4ea6-8267-342980759731",
   "metadata": {},
   "outputs": [],
   "source": [
    "lonSample, latSample, shotSample, qualitySample, beamSample = [], [], [], [], []  # Set up lists to store data\n",
    "\n",
    "# Open the SDS\n",
    "lats = gediL2A['BEAM1000/lat_lowestmode'][()]\n",
    "lons = gediL2A['BEAM1000/lon_lowestmode'][()]\n",
    "shots = gediL2A['BEAM1000/shot_number'][()]\n",
    "quality = gediL2A['BEAM1000/quality_flag'][()]\n",
    "\n",
    "# Take every 10th shot and append to list\n",
    "for i in range(len(shots)):\n",
    "    if i % 10 == 0:\n",
    "        shotSample.append(str(shots[i]))\n",
    "        lonSample.append(lons[i])\n",
    "        latSample.append(lats[i])\n",
    "        qualitySample.append(quality[i])\n",
    "        beamSample.append('Beam1000')\n",
    "\n",
    "# Write all of the sample shots to a dataframeb\n",
    "latslons = pd.DataFrame({'Beam': beamSample, 'Shot Number': shotSample, 'Longitude': lonSample, 'Latitude': latSample,\n",
    "                         'Quality Flag': qualitySample})\n",
    "latslons"
   ]
  },
  {
   "cell_type": "code",
   "execution_count": null,
   "id": "c4f67d53-915e-4d4b-b8f9-453fa3a2480b",
   "metadata": {},
   "outputs": [],
   "source": [
    "#Sommige variabelen hebben we niet meer nodig, dus verwijderen we die:\n",
    "del beamSample, quality, qualitySample, gediL2A_objs, latSample, lats, lonSample, lons, shotSample, shots "
   ]
  },
  {
   "cell_type": "markdown",
   "id": "29fc876a-f686-4bf2-8c6b-3d3b2940c699",
   "metadata": {},
   "source": [
    "Met Geopandas kunnen we een GeoDataFrame aanmaken, op basis van de Longitude en Latitude kolommen:"
   ]
  },
  {
   "cell_type": "code",
   "execution_count": null,
   "id": "5abab3c0-e617-45a1-abf1-a85d8c58fe1a",
   "metadata": {},
   "outputs": [],
   "source": [
    "latslons['geometry'] = latslons.apply(lambda row: Point(row.Longitude, row.Latitude), axis=1)"
   ]
  },
  {
   "cell_type": "code",
   "execution_count": null,
   "id": "68eff1cc-e413-42ab-a350-0462a9f024c1",
   "metadata": {},
   "outputs": [],
   "source": [
    "type(latslons)"
   ]
  },
  {
   "cell_type": "code",
   "execution_count": null,
   "id": "accb2d9d-e45b-491e-8085-0ba2abb56842",
   "metadata": {},
   "outputs": [],
   "source": [
    "#O Omzetten naar een GeoDataFrame\n",
    "latslons = gp.GeoDataFrame(latslons)\n",
    "latslons = latslons.drop(columns=['Latitude','Longitude'])\n",
    "latslons['geometry']"
   ]
  },
  {
   "cell_type": "code",
   "execution_count": null,
   "id": "8a171af7-4d2d-4c2c-baf1-af6f34f66acd",
   "metadata": {},
   "outputs": [],
   "source": [
    "latslons.crs"
   ]
  },
  {
   "cell_type": "markdown",
   "id": "e70c81c6-7be9-4170-828c-a92f14a1eca0",
   "metadata": {},
   "source": [
    "Er is nog geen CRS toegekend, maar we weten dat deze EPSG=4326 heeft, onderstaande code past dit aan:"
   ]
  },
  {
   "cell_type": "code",
   "execution_count": null,
   "id": "0a23f15b-96b4-4e2f-b64c-d054cd451260",
   "metadata": {},
   "outputs": [],
   "source": [
    "latslons = latslons.set_crs(epsg=4326)"
   ]
  },
  {
   "cell_type": "code",
   "execution_count": null,
   "id": "1b8eee49-2633-454f-9eee-0ebe1088a46b",
   "metadata": {
    "scrolled": true
   },
   "outputs": [],
   "source": [
    "#Hier kunnen we weer een punt bekijken\n",
    "latslons['geometry'][0]\n"
   ]
  },
  {
   "cell_type": "code",
   "execution_count": null,
   "id": "797d8cb0-c45d-43ae-bd89-31db36431a76",
   "metadata": {},
   "outputs": [],
   "source": [
    "###Visualizeren van de Volledige GeoDataFrame:\n",
    "ax = latslons.explore()"
   ]
  },
  {
   "cell_type": "markdown",
   "id": "de525947-b05b-4fb4-ad5b-c215ea45d398",
   "metadata": {},
   "source": [
    "Bovenstaande zegt ons nog niet zoveel, daarom gaan we via een extra plotmethode ook een achtergrond toevoegen:"
   ]
  },
  {
   "cell_type": "code",
   "execution_count": null,
   "id": "a65e18b2-3404-4e64-9a01-b15e67f0eb9e",
   "metadata": {},
   "outputs": [],
   "source": [
    "# Define a function for visualizing GEDI points\n",
    "def pointVisual(features, vdims):\n",
    "    return (gvts.EsriImagery * gv.Points(features, vdims=vdims).options(tools=['hover'], height=500, width=900, size=5, \n",
    "                                                                        color='yellow', fontsize={'xticks': 10, 'yticks': 10, \n",
    "                                                                                                  'xlabel':16, 'ylabel': 16})) \n"
   ]
  },
  {
   "cell_type": "markdown",
   "id": "98f7734e-d5b4-4b33-9c7c-fcfd29ea1eaa",
   "metadata": {},
   "source": [
    "# Inlezen van Mangrove-ROI"
   ]
  },
  {
   "cell_type": "code",
   "execution_count": null,
   "id": "f248e42b-7aee-47aa-9a26-a6e7f11c1c79",
   "metadata": {},
   "outputs": [],
   "source": [
    "Mangrove_ROI = gp.read_file('data/ROI_Mangroves.zip')"
   ]
  },
  {
   "cell_type": "code",
   "execution_count": null,
   "id": "a6977fb8-d56a-47ff-af7b-6585f34f30c7",
   "metadata": {},
   "outputs": [],
   "source": [
    "Mangrove_ROI = Mangrove_ROI.to_crs(latslons.crs)"
   ]
  },
  {
   "cell_type": "code",
   "execution_count": null,
   "id": "e87342e2-f787-475f-be45-f56b1501b809",
   "metadata": {},
   "outputs": [],
   "source": [
    "# Create a list of geodataframe columns to be included as attributes in the output map\n",
    "vdims = []\n",
    "for f in latslons:\n",
    "    if f not in ['geometry']:\n",
    "        vdims.append(f)\n",
    "vdims"
   ]
  },
  {
   "cell_type": "code",
   "execution_count": null,
   "id": "750efcd7-87df-4035-b6ec-6a7b1d685f16",
   "metadata": {
    "scrolled": true
   },
   "outputs": [],
   "source": [
    "gv.Polygons(Mangrove_ROI['geometry']).opts(line_color='red', color=None) * pointVisual(latslons, vdims = vdims)"
   ]
  },
  {
   "cell_type": "markdown",
   "id": "775d7103-2088-4c33-96c8-0b5881f82a6b",
   "metadata": {},
   "source": [
    "Bij het bekijken van de data, zie je 'Quality Flag' met een 0 of een 1. We kunnen nagaan wat dit precies betekent:"
   ]
  },
  {
   "cell_type": "code",
   "execution_count": null,
   "id": "e2d6026e-a8ab-4d90-a9ab-8eebe34d9687",
   "metadata": {},
   "outputs": [],
   "source": [
    "print(f\"Quality Flag: {gediL2A[b]['quality_flag'].attrs['description']}\")\n"
   ]
  },
  {
   "cell_type": "markdown",
   "id": "2763232c-9c98-48de-8d4b-7b227cc797ff",
   "metadata": {},
   "source": [
    "# GEDI-L2A data: RH-metrics"
   ]
  },
  {
   "cell_type": "markdown",
   "id": "d3b6469f-5e08-435c-bd0a-87e97d34304e",
   "metadata": {},
   "source": [
    "GEDI-L2A levert de Relative Height-metrieken, wat een typische LiDAR-metrieken zijn. Deze gaan van RH_0 tot RH_100, waarbij:\n",
    "\n",
    "* **RH 100** = elev_highestreturn - elev_lowestmode.\n",
    "              Dit is het verschil tussen de grootste hoogte waarop een 'return'-waarde werd geregistreerd en de vooropgestelde hoogte van het laagste punt (= de grond). Deze hoogte-waarden worden relatief gemeten, maar om dit naar absolute getallen om te zetten maakt GEDI gebruik van het WGS-hoogtemodel. \n",
    "\n",
    "* **RH_0** = Hoogte van de laagste return = bodem\n",
    "\n",
    "* De lagere RH-waarden kunnen **negatieve** waarden hebben, omdat vaak een groter % van de teruggekeerde energie van de grond komt"
   ]
  },
  {
   "cell_type": "markdown",
   "id": "8aeeb1a0-f28f-4028-87e2-1fbfc7ac038b",
   "metadata": {},
   "source": [
    "## Specifieke shots inladen"
   ]
  },
  {
   "cell_type": "markdown",
   "id": "b3e13751-e3c1-471e-b29b-9beb8f0fa910",
   "metadata": {},
   "source": [
    "Eerst kijken we hoeveel unieke shots aanwezig zijn in onze file:"
   ]
  },
  {
   "cell_type": "code",
   "execution_count": null,
   "id": "15cc9900-b5fa-4d74-a9c6-02719eef8d71",
   "metadata": {},
   "outputs": [],
   "source": [
    "# Hoeveel unieke shots zitten in onze file?\n",
    "len(gediSDS)"
   ]
  },
  {
   "cell_type": "code",
   "execution_count": null,
   "id": "6fbfd109-0f4a-4854-8ddd-da2fd3a4c960",
   "metadata": {
    "scrolled": true
   },
   "outputs": [],
   "source": [
    "beamSDS = [g for g in gediSDS if 'BEAM1000' in g]  # Subset to a single beam\n",
    "len(beamSDS)"
   ]
  },
  {
   "cell_type": "markdown",
   "id": "f43e861a-250a-4bcd-b213-c4a73f760789",
   "metadata": {},
   "source": [
    "Hieruit gaan we één shot halen, ter illustratie van hoe dergelijke return er uit ziet. Dit doen we op basis van het unieke *shotnummer*. \n",
    "\n",
    "Hier kiezen we voor een shot die binnen de mangrove-zone valt. (vooraf geselecteerd via bovenstaande figuren)."
   ]
  },
  {
   "cell_type": "code",
   "execution_count": null,
   "id": "1589e1ba-8dd3-4faa-8c14-221534633a25",
   "metadata": {},
   "outputs": [],
   "source": [
    "shot = 155570800200091194"
   ]
  },
  {
   "cell_type": "code",
   "execution_count": null,
   "id": "708abf51-1d7b-4edd-b68a-8b3691f797a1",
   "metadata": {},
   "outputs": [],
   "source": [
    "index = np.where(gediL2A['BEAM1000/shot_number'][()]==shot)[0][0]  # Set the index for the shot identified above\n",
    "index"
   ]
  },
  {
   "cell_type": "code",
   "execution_count": null,
   "id": "301a59e4-a500-4a10-875b-c2818d872ef9",
   "metadata": {},
   "outputs": [],
   "source": [
    "rh = gediL2A[[g for g in beamSDS if g.endswith('/rh')][0]]  # Relative Height Metrics"
   ]
  },
  {
   "cell_type": "markdown",
   "id": "40c4f532-440d-4bc4-9258-9dca88809ddf",
   "metadata": {},
   "source": [
    "Print de omschrijving van de rh dataset, om hier inzicht in te krijgen:"
   ]
  },
  {
   "cell_type": "code",
   "execution_count": null,
   "id": "800812d4-cbe5-41a0-8213-b5bf1a21e03d",
   "metadata": {},
   "outputs": [],
   "source": [
    "print(f\"rh is {rh.attrs['description']}\")"
   ]
  },
  {
   "cell_type": "code",
   "execution_count": null,
   "id": "f3dba89d-23f9-4455-91cb-6fa8ce5fee8e",
   "metadata": {},
   "outputs": [],
   "source": [
    "algo = gediL2A[f'{beamNames[0]}/selected_algorithm']  # selected algorithm\n",
    "print(f\"selected_algorithm is {algo.attrs['description']}\")"
   ]
  },
  {
   "cell_type": "markdown",
   "id": "12045b4b-0a86-49dc-a8bd-4cabb734b490",
   "metadata": {},
   "source": [
    "Laden van de latitude/longitude van het geselecteerde shot"
   ]
  },
  {
   "cell_type": "code",
   "execution_count": null,
   "id": "608123d1-1f65-4dfa-9da0-fd5160c1253b",
   "metadata": {},
   "outputs": [],
   "source": [
    "# Bring in the desired SDS\n",
    "lats = gediL2A[f'{beamNames[0]}/lat_lowestmode']  # Latitude\n",
    "lons = gediL2A[f'{beamNames[0]}/lon_lowestmode']  # Longitude"
   ]
  },
  {
   "cell_type": "code",
   "execution_count": null,
   "id": "462381ef-0ad6-4bde-b202-b11ec54b7fc8",
   "metadata": {},
   "outputs": [],
   "source": [
    "rhLat = lats[index]\n",
    "rhLon = lons[index]\n",
    "rhShot1 = rh[index]\n",
    "algoShot1 = algo[index]"
   ]
  },
  {
   "cell_type": "code",
   "execution_count": null,
   "id": "f1617cf2-80d9-4fba-8e24-1b805af58c8a",
   "metadata": {},
   "outputs": [],
   "source": [
    "print(f\"The shot is located at: {str(rhLat)}, {str(rhLon)} (shot ID: {shot}, index {index}) and is from beam {beamNames[5]}.\")\n",
    "print(f\"The selected algorithm is Algorithm Setting Group {str(algoShot1)}.\")"
   ]
  },
  {
   "cell_type": "code",
   "execution_count": null,
   "id": "26feeb29-467c-4d03-aa82-ec0ccee2e1b0",
   "metadata": {},
   "outputs": [],
   "source": [
    "# Grab the elevation recorded at the start and end of the RH metrics\n",
    "zElevation = gediL2A[[g for g in beamSDS if g.endswith('/elev_lowestmode')][0]][index]  # Elevation\n",
    "zTop = gediL2A[[g for g in beamSDS if g.endswith('/elev_highestreturn')][0]][index]     # Elevation Highest Return"
   ]
  },
  {
   "cell_type": "code",
   "execution_count": null,
   "id": "630e7f71-aeae-46b6-a997-16e0c6a3ff0d",
   "metadata": {},
   "outputs": [],
   "source": [
    "rhShot = [z + zElevation for z in rhShot1]  # To convert canopy height to canopy elevation, add the elevation to each value\n",
    "rh25 = rhShot[24]                           # 25% \n",
    "rh50 = rhShot[49]                           # 50%  \n",
    "rh75 = rhShot[74]                           # 75% "
   ]
  },
  {
   "cell_type": "code",
   "execution_count": null,
   "id": "4977d724-591a-48a4-8f84-bd8a582833ce",
   "metadata": {},
   "outputs": [],
   "source": [
    "rhVis = hv.Curve(rhShot, label=f'Selected Algorithm (a{str(algoShot1)})')\n",
    "rhVis = rhVis.opts(color='black', tools=['hover'], height=500, width=400, title='GEDI L2A Relative Height Metrics', \n",
    "                   xlabel='Percent Energy Returned', ylabel='Elevation (m)', xlim=(0,100),ylim=(np.min(rhShot),np.max(rhShot)), \n",
    "                   fontsize={'title':14, 'xlabel':16, 'ylabel': 16, 'legend': 14, 'xticks':12, 'yticks':12}, line_width=3.5)\n",
    "rhVis\n"
   ]
  },
  {
   "cell_type": "code",
   "execution_count": null,
   "id": "a26fced2-664c-4f63-ab43-990c47637746",
   "metadata": {},
   "outputs": [],
   "source": [
    "# Create plots for L2A Metrics\n",
    "zX = [0,100]                   # set up list from 0 to 100 to create the line\n",
    "zY = [zElevation, zElevation]  # ground elevation\n",
    "zT = [zTop, zTop]              # highest return\n",
    "\n",
    "# Set up plots for each of the desired values\n",
    "zVis = hv.Curve((zX, zY), label='Ground Return').opts(color='saddlebrown', tools=['hover'], height=550, width=400, line_width=2)\n",
    "ztVis = hv.Curve((zX, zT), label='RH100').opts(color='navy', tools=['hover'], height=550, width=400, line_width=2)\n",
    "rh25Vis = hv.Curve((zX, [rh25,rh25]),label='RH25').opts(color='lightblue',tools=['hover'], height=550, width=400, line_width=2)\n",
    "rh50Vis = hv.Curve((zX, [rh50,rh50]),label='RH50').opts(color='mediumblue',tools=['hover'], height=550, width=400, line_width=2)\n",
    "rh75Vis = hv.Curve((zX, [rh75,rh75]),label='RH75').opts(color='darkblue',tools=['hover'], height=550, width=400, line_width=2)\n"
   ]
  },
  {
   "cell_type": "code",
   "execution_count": null,
   "id": "3834beae-2dbc-4bf4-86a3-b7c3fa093062",
   "metadata": {},
   "outputs": [],
   "source": [
    "# Plot all of the metrics together\n",
    "l2aVis = rhVis * zVis * ztVis * rh25Vis * rh50Vis * rh75Vis\n",
    "l2aVis_backup = l2aVis\n",
    "l2aVis.opts(show_legend=True, legend_position='bottom_right', title='GEDI L2A Relative Height Metrics', ylabel='Elevation (m)',\n",
    "                   xlabel='Percent Energy Returned', xlim=(0, 100), ylim=(np.min(rhShot) + 1.5, np.max(rhShot) + 5), height=600,\n",
    "                   fontsize={'title':16, 'xlabel':16, 'ylabel': 16, 'legend': 14, 'xticks':12, 'yticks':12}, width=400)\n"
   ]
  },
  {
   "cell_type": "markdown",
   "id": "a2eee85e-99e4-44bc-a6b1-3945f0ee5ae5",
   "metadata": {},
   "source": [
    "<div class=\"alert alert-success\">\n",
    "\n",
    "**OEFENING**:\n",
    "\n",
    "Identificeer nu een 2e shotnummer, op basis van de overzichtsfiguur die we hoger hebben aangemaakt. Je kan hierbij spelen met een ander vegetatietype, ...\n",
    "\n",
    "Maak, op basis van het shotnummer, een gelijkaardige Relative Height-figuur."
   ]
  },
  {
   "cell_type": "markdown",
   "id": "b4b9e900-b6d7-427d-822e-e3a6225a13e9",
   "metadata": {},
   "source": [
    "# 2 - Visualisatie van L1B"
   ]
  },
  {
   "cell_type": "markdown",
   "id": "1dab8737-2fe6-4c5b-921d-f62df0deb88b",
   "metadata": {},
   "source": [
    "Net zoals GEDI-L2A kan de L1B-data gedownload worden via [NASA Earthdata Search](https://search.earthdata.nasa.gov/search).\n",
    "Aangezien het hier de ruwe data betreft, en deze files tot een paar GB in grootte kunnen gaan, bekijken we rechtstreeks enkele 'waveforms'.\n",
    "\n",
    "Voor verdere introductie tot Level 1B kan ik volgende tutorial aanbevelen:\n",
    "[https://lpdaac.usgs.gov/resources/e-learning/getting-started-gedi-l1b-data-python/](https://lpdaac.usgs.gov/resources/e-learning/getting-started-gedi-l1b-data-python/)"
   ]
  },
  {
   "cell_type": "markdown",
   "id": "32421bca-e542-40e7-ac55-b47a4fd28f36",
   "metadata": {},
   "source": [
    "Inladen van de 'waveform' voor de geselecteerde shot:"
   ]
  },
  {
   "cell_type": "code",
   "execution_count": null,
   "id": "0bc422f2-8a94-4220-b70b-7e691f1bcaa0",
   "metadata": {},
   "outputs": [],
   "source": [
    "print('Dataset voor shot nummer: ', shot , 'is ingeladen als wvDF.')\n",
    "wvDF = pd.read_csv('data/L1B_waveform_full.csv')"
   ]
  },
  {
   "cell_type": "code",
   "execution_count": null,
   "id": "8a8fe857-f0ec-42b0-ae90-088f2ace66a7",
   "metadata": {},
   "outputs": [],
   "source": [
    "# Laatste rij weghalen en relevante kolommen selecteren:\n",
    "wvDF = wvDF[:-1][['rx_Waveform','rx_Elevation']]\n",
    "wvDF"
   ]
  },
  {
   "cell_type": "markdown",
   "id": "8bc48030-6d55-4d67-b69e-e07d6dcc2c71",
   "metadata": {},
   "source": [
    "### Visualisatie van de ruwe 'waveform': "
   ]
  },
  {
   "cell_type": "code",
   "execution_count": null,
   "id": "90011904-4388-4d5e-9b96-6b1a18993a35",
   "metadata": {
    "scrolled": true
   },
   "outputs": [],
   "source": [
    "visL1B = hv.Curve(wvDF).opts(color='darkgreen', tools=['hover'], height=600, width=400,\n",
    "                             xlim=(np.min(wvDF['rx_Waveform']) - 10, np.max(wvDF['rx_Waveform']) + 10), \n",
    "                             ylim=(np.min(wvDF['rx_Elevation']), np.max(wvDF['rx_Elevation'])),\n",
    "                             fontsize={'xticks':10, 'yticks':10,'xlabel':16, 'ylabel': 16, 'title':13}, line_width=2.5, title=f'{str(shot)}')\n",
    "visL1B"
   ]
  },
  {
   "cell_type": "markdown",
   "id": "21055520-de2e-40c8-8d2d-b4f593ea8a20",
   "metadata": {},
   "source": [
    "## Visualisatie van de ruwe waveform met de afgeleide RH-metrieken"
   ]
  },
  {
   "cell_type": "code",
   "execution_count": null,
   "id": "1a8e0ca8-4b80-4fce-bc61-974de496c2ee",
   "metadata": {},
   "outputs": [],
   "source": [
    "visL1B.opts(height=600, width=400, ylim=(np.min(rhShot), np.max(rhShot)+5), ylabel='Elevation (m)', xlabel='Amplitude (DN)') \\\n",
    "+ l2aVis.opts(height=600, width=400, ylim=(np.min(rhShot), np.max(rhShot)+5))\n"
   ]
  },
  {
   "cell_type": "markdown",
   "id": "3b4dc623-307f-49db-9fd4-761e9595db0e",
   "metadata": {},
   "source": [
    "# GEDI Level 4 - INFO"
   ]
  },
  {
   "cell_type": "markdown",
   "id": "3ea67b6c-b2e6-4c98-8379-6dbb86baead6",
   "metadata": {},
   "source": [
    "Uit de GEDI- Level-2A data (meer specifiek de RH-metrieken) wordt een Level-4 product afgeleid. Deze bevat onder andere inschattingen voor de bovengrondse biomassa voor elke shot."
   ]
  },
  {
   "cell_type": "markdown",
   "id": "d7b2f205-ab34-4f6d-83a4-285f5ee581f3",
   "metadata": {},
   "source": [
    "De GEDI-aanpak voor het ontwikkelen van AGBD-modellen met footprint houdt rekening met meerdere kandidaten, gestratificeerd naar wereldregio en PFT (Plant Functional Type) met verschillende functionele vormen. De modellen zijn ontwikkeld met behulp van een kwaliteitsgefilterde kalibratiedataset, bestaande uit **8.587 gesimuleerde golfvormen** in **21 landen**. Deze gegevens zijn bijgedragen door talrijke onderzoekers en gestandaardiseerd in de GEDI FSBD (Footprint Structural Biomass Database), die een levend gegevensarchief is dat in de loop der tijd groeit naarmate nieuwe datasets worden geassimileerd en verbeteringen worden aangebracht in bestaande gegevens."
   ]
  },
  {
   "attachments": {},
   "cell_type": "markdown",
   "id": "e97be32a-d1ce-4db9-90ea-7ad4d0906930",
   "metadata": {},
   "source": [
    "Meer informatie over Level-4 data structuur:\n",
    "-  [https://daac.ornl.gov/GEDI/guides/GEDI_L4A_AGB_Density.html#references](https://daac.ornl.gov/GEDI/guides/GEDI_L4A_AGB_Density.html#references)\n",
    "\n",
    "-  pdf document: [Algorithm_theoretical_basis_document_for_GEDI_foot](Algorithm_theoretical_basis_document_for_GEDI_foot.pdf)"
   ]
  },
  {
   "cell_type": "markdown",
   "id": "154c968d-1ffe-40c2-b475-9ce084bc825f",
   "metadata": {},
   "source": [
    "In wat volgt bekijken we hoe de Level-4 database er uit ziet, voor dezelfde shot als hierboven:"
   ]
  },
  {
   "cell_type": "code",
   "execution_count": null,
   "id": "85c8f292-350a-4bd9-869a-fd8c0eee2b13",
   "metadata": {},
   "outputs": [],
   "source": [
    "# Start met data in te lezen\n",
    "gedi_L4 = pd.read_csv('data/gedi_l4.csv')"
   ]
  },
  {
   "cell_type": "code",
   "execution_count": null,
   "id": "caaf01d5-a57c-4e2e-a776-a94d03e57f2d",
   "metadata": {},
   "outputs": [],
   "source": [
    "gedi_L4.columns.values"
   ]
  },
  {
   "cell_type": "code",
   "execution_count": null,
   "id": "e27606ae-4fbe-47bb-833a-c0772602ab3d",
   "metadata": {},
   "outputs": [],
   "source": [
    "# Enkel de shot selecteren:\n",
    "gedi_L4_shot = gedi_L4[gedi_L4['shot_number'] == shot]\n",
    "gedi_L4_shot"
   ]
  },
  {
   "cell_type": "code",
   "execution_count": null,
   "id": "3a8a3ea3-8d3c-4c88-b508-c4404be4d63c",
   "metadata": {},
   "outputs": [],
   "source": [
    "# Informatie over het toegekende stratum\n",
    "gedi_L4_shot['predict_stratum']"
   ]
  },
  {
   "cell_type": "markdown",
   "id": "13d60a54-9648-4d6e-b37c-fa22dabb434a",
   "metadata": {},
   "source": [
    "!['img/GEDI_L4_strata.png'](img/GEDI_L4_strata.png)"
   ]
  },
  {
   "cell_type": "markdown",
   "id": "bb399c00-98d8-431a-8e4f-6b9713e52dc6",
   "metadata": {},
   "source": [
    "Beschrijving van de codes:\n",
    "DBT, deciduous broadleaf trees), DNT (deciduous needleleaf trees), EBT (evergreen broadleaf trees), ENT (evergreen needleleaf trees), GSW (grasses, shrubs, and woodlands). Af (Africa), Au (Australia and Oceania), Eu (Europe), N-Am (North America north of southern Mexico), N-As (North Asia), S-Am (South America, Central America, southern Mexico, and the Caribbean), S-As (South Asia)."
   ]
  },
  {
   "attachments": {
    "de618490-2363-4b35-8e90-9b03f9a1388b.png": {
     "image/png": "[encoded data removed]"
    }
   },
   "cell_type": "markdown",
   "id": "0834a083-5e42-4978-8d96-9908fb03fa5c",
   "metadata": {},
   "source": [
    "Uit de ATB (Algorithm Theoretical Basis), kunnen we vinden dat de gebruikte formule om tot de AGB-waarden voor het stratum `EBT_SA` te komen de volgende is:\n",
    "![image.png](attachment:de618490-2363-4b35-8e90-9b03f9a1388b.png)"
   ]
  },
  {
   "cell_type": "markdown",
   "id": "30f45dd8-beed-44be-866f-127e8c689de2",
   "metadata": {},
   "source": [
    "Voor de shot, wordt de ingeschatte biomassa-densiteit(uitgedrukt in Mg/ha) dus:"
   ]
  },
  {
   "cell_type": "code",
   "execution_count": null,
   "id": "b60a8622-901f-4280-b2f1-c3301194bfc9",
   "metadata": {},
   "outputs": [],
   "source": [
    "gedi_L4_shot['agbd']"
   ]
  },
  {
   "cell_type": "markdown",
   "id": "92a0ab54-5093-446a-92be-8b289c649779",
   "metadata": {},
   "source": [
    "> **Note**\n",
    "> In deze versie van de AGB-algoritmen wordt er dus géén afzonderlijk stratum opgesteld voor het mangrove-ecosysteem. Er wordt wel gepleit om in toekomstige versies hiervoor meer rekening te houden, maar daarvoor is er meer data nodig!\n",
    "> Terrestrial Laser Scans (TLS) voor mangrove kan hierin een rol spelen, om met een lagere foutenmarge GEDI-AGB waarden te berekenen"
   ]
  },
  {
   "cell_type": "markdown",
   "id": "494e31ab-31f8-4dd6-bc64-ab08a15b17c9",
   "metadata": {},
   "source": [
    "# Oefening: visualizatie van een rode mangrove shot"
   ]
  },
  {
   "cell_type": "markdown",
   "id": "6cf235f7-0a09-45b0-9f10-623b232ecd9b",
   "metadata": {},
   "source": [
    "In voorgaande voorbeelden hebben we een GEDI-shot gevisualiseerd voor een locatie met jonge zwarte mangrove. In een tweede voorbeeld plotten we een shot binnen rode mangrove. Tracht hiervoor code te kopiëren uit voorgaande code!"
   ]
  },
  {
   "cell_type": "markdown",
   "id": "a7c3a4d9-f061-4908-8916-839c900062dd",
   "metadata": {},
   "source": [
    "<div class=\"alert alert-success\">\n",
    "\n",
    "**STAP 1 - Level 2A**:\n",
    "\n",
    "Start met het vinden en visualiseren van het shot binnen de Level-2A dataset. Maak hierbij gebruik de code hierboven, waarbij je het shotnummer aanpast."
   ]
  },
  {
   "cell_type": "code",
   "execution_count": null,
   "id": "84fc4c7a-410a-4fae-b2bc-69a1c2b160a9",
   "metadata": {},
   "outputs": [],
   "source": [
    "# Shotnummer voor een shot binnen rode mangrove\n",
    "shot_rm = 155570800200090851"
   ]
  },
  {
   "cell_type": "markdown",
   "id": "19a3f6bf-2d5d-450e-94c2-6e4780889c83",
   "metadata": {},
   "source": [
    "<div class=\"alert alert-success\">\n",
    "\n",
    "**STAP 2 - Level 1B**:\n",
    "\n",
    "Vervolgens kunnen we ook de ruwe waveformdata visualizeren. Hiervoor is de waveformdata gegeven:\n"
   ]
  },
  {
   "cell_type": "code",
   "execution_count": null,
   "id": "8eddbfde-3e6e-40b0-aee9-eb8628f8c418",
   "metadata": {},
   "outputs": [],
   "source": [
    "# Inladen van de ruwe waveformdata\n",
    "GEDI_L1B = pd.read_csv('data/L1B_waveform_RM_full.csv')"
   ]
  },
  {
   "cell_type": "markdown",
   "id": "2ad24868-5b98-45b1-a0c4-127ac8d29479",
   "metadata": {},
   "source": [
    "<div class=\"alert alert-success\">\n",
    "\n",
    "**STAP 3 - Level 4 AGB data**:\n",
    "\n",
    "Tot slot kunnen we op basis van de GEDI-L4 data een ingeschatte biomassa-hoeveelheid opvragen. Hiervoor kun je gebruik maken van de ```gedi_L4.csv```, waarbij je deze filter op basis van het nieuwe shotnummer. Wat is de ingeschatte biomassadensiteit? "
   ]
  },
  {
   "cell_type": "markdown",
   "id": "909dd4f1-8372-4faf-947b-d4f41043a996",
   "metadata": {},
   "source": [
    "# EXTRA: visualiseren van alle shots (L2A)"
   ]
  },
  {
   "cell_type": "markdown",
   "id": "18bdb96a-fde3-40a0-bb82-529dbb731346",
   "metadata": {},
   "source": [
    "Tot slot kunnen we de GEDI-metrieken ook voor elke shot gaan visualizeren, om zo een inzicht te krijgen in de structuur van het landschap."
   ]
  },
  {
   "cell_type": "markdown",
   "id": "6f49f552-aaaa-4ce2-a8ea-5dc9bcfdc95a",
   "metadata": {},
   "source": [
    "## 1) Alle GEDI-shots extraheren"
   ]
  },
  {
   "cell_type": "markdown",
   "id": "93912ac9-ac46-4b2c-91cb-4ea1c1c4f695",
   "metadata": {},
   "source": [
    "In het voorgaande bekeken we de relative hoogte van slechts één GEDI-shot. We kunnen nu ook de volledige GEDI-dataset extraheren en visualizeren"
   ]
  },
  {
   "cell_type": "code",
   "execution_count": null,
   "id": "96b2de5d-bcc3-4e6e-a2b9-32be4fbb5a1d",
   "metadata": {},
   "outputs": [],
   "source": [
    "beamNames = [g for g in gediL2A.keys() if g.startswith('BEAM')]"
   ]
  },
  {
   "cell_type": "code",
   "execution_count": null,
   "id": "be720bb3-938c-4228-9947-bb6e6aab426f",
   "metadata": {},
   "outputs": [],
   "source": [
    "beamNames"
   ]
  },
  {
   "cell_type": "markdown",
   "id": "e55b1d2f-4536-4966-8a36-199752e58ab9",
   "metadata": {},
   "source": [
    "## 1) Subsetten van GEDI-data"
   ]
  },
  {
   "cell_type": "markdown",
   "id": "dcba287e-fcf5-4c40-b9c1-9e957de85645",
   "metadata": {},
   "source": [
    "We beschikken over 2 vector-datasets:\n",
    "- De GEDI-shots (gediSDS)\n",
    "- De ROI\n"
   ]
  },
  {
   "cell_type": "code",
   "execution_count": null,
   "id": "39c43fda-d288-41c2-adcd-56135f04688f",
   "metadata": {},
   "outputs": [],
   "source": [
    "# Set up lists to store data\n",
    "shotNum, dem, zElevation, zHigh, zLat, zLon, rh25, rh98, rh100 ,quality ,degrade, sensitivity ,beamI = ([] for i in range(13))  "
   ]
  },
  {
   "cell_type": "code",
   "execution_count": null,
   "id": "74627c78-7401-4296-849c-c159fad6d5e3",
   "metadata": {},
   "outputs": [],
   "source": [
    "# Loop through each beam and open the SDS needed\n",
    "for b in beamNames:\n",
    "    [shotNum.append(h) for h in gediL2A[[g for g in gediSDS if g.endswith('/shot_number') and b in g][0]][()]]\n",
    "    [dem.append(h) for h in gediL2A[[g for g in gediSDS if g.endswith('/digital_elevation_model') and b in g][0]][()]]\n",
    "    [zElevation.append(h) for h in gediL2A[[g for g in gediSDS if g.endswith('/elev_lowestmode') and b in g][0]][()]]  \n",
    "    [zHigh.append(h) for h in gediL2A[[g for g in gediSDS if g.endswith('/elev_highestreturn') and b in g][0]][()]]  \n",
    "    [zLat.append(h) for h in gediL2A[[g for g in gediSDS if g.endswith('/lat_lowestmode') and b in g][0]][()]]  \n",
    "    [zLon.append(h) for h in gediL2A[[g for g in gediSDS if g.endswith('/lon_lowestmode') and b in g][0]][()]]  \n",
    "    [rh25.append(h[25]) for h in gediL2A[[g for g in gediSDS if g.endswith('/rh') and b in g][0]][()]]  \n",
    "    [rh98.append(h[98]) for h in gediL2A[[g for g in gediSDS if g.endswith('/rh') and b in g][0]][()]]\n",
    "    [rh100.append(h[100]) for h in gediL2A[[g for g in gediSDS if g.endswith('/rh') and b in g][0]][()]]  \n",
    "    [quality.append(h) for h in gediL2A[[g for g in gediSDS if g.endswith('/quality_flag') and b in g][0]][()]]  \n",
    "    [degrade.append(h) for h in gediL2A[[g for g in gediSDS if g.endswith('/degrade_flag') and b in g][0]][()]]  \n",
    "    [sensitivity.append(h) for h in gediL2A[[g for g in gediSDS if g.endswith('/sensitivity') and b in g][0]][()]]  \n",
    "    [beamI.append(h) for h in [b] * len(gediL2A[[g for g in gediSDS if g.endswith('/shot_number') and b in g][0]][()])]  "
   ]
  },
  {
   "cell_type": "code",
   "execution_count": null,
   "id": "bb452dd0-dd3e-4c18-a279-aa2a0870c790",
   "metadata": {},
   "outputs": [],
   "source": [
    "# Convert lists to Pandas dataframe\n",
    "allDF = pd.DataFrame({'Shot Number': shotNum, 'Beam': beamI, 'Latitude': zLat, 'Longitude': zLon, 'Tandem-X DEM': dem,\n",
    "                      'Elevation (m)': zElevation, 'Canopy Elevation (m)': zHigh, 'Canopy Height (rh100)': rh100, 'RH 98': rh98,\n",
    "                      'RH 25': rh25, 'Quality Flag': quality, 'Degrade Flag': degrade, 'Sensitivity': sensitivity})\n"
   ]
  },
  {
   "cell_type": "code",
   "execution_count": null,
   "id": "45bb56cc-a0a9-4afe-9dd2-8c2178fd65a8",
   "metadata": {},
   "outputs": [],
   "source": [
    "del beamI, degrade, dem, gediSDS, rh100, rh98, rh25, quality, sensitivity, zElevation, zHigh, zLat, zLon, shotNum\n"
   ]
  },
  {
   "cell_type": "markdown",
   "id": "3e0621d3-3965-47a1-a306-e9eb5dcafe68",
   "metadata": {},
   "source": [
    "## Spatial Subsetting"
   ]
  },
  {
   "cell_type": "markdown",
   "id": "53277dca-9837-4f80-8a9f-d4f5d0d0dbc6",
   "metadata": {},
   "source": [
    "We zijn enkel geïnteresseerd in de Mangrove-zone:"
   ]
  },
  {
   "cell_type": "code",
   "execution_count": null,
   "id": "9e194dc0-abb8-4076-b020-4f48094b01c3",
   "metadata": {},
   "outputs": [],
   "source": [
    "#Spatiaal kader:\n",
    "Mangrove_ROI.envelope[0].bounds"
   ]
  },
  {
   "cell_type": "code",
   "execution_count": null,
   "id": "a890b239-2b42-4a44-9d70-6533f59f034f",
   "metadata": {},
   "outputs": [],
   "source": [
    "minLon, minLat, maxLon, maxLat = Mangrove_ROI.envelope[0].bounds[:]  # Define the min/max lat/lon from the bounds of Redwood NP\n"
   ]
  },
  {
   "cell_type": "code",
   "execution_count": null,
   "id": "115d4c73-7aa4-43e0-ba1b-452f42adae6d",
   "metadata": {},
   "outputs": [],
   "source": [
    "allDF = allDF.where(allDF['Latitude'] > minLat)\n",
    "allDF = allDF.where(allDF['Latitude'] < maxLat)\n",
    "allDF = allDF.where(allDF['Longitude'] > minLon)\n",
    "allDF = allDF.where(allDF['Longitude'] < maxLon)"
   ]
  },
  {
   "cell_type": "markdown",
   "id": "2e956ba2-dcc3-49f9-b272-169c18b3e6be",
   "metadata": {},
   "source": [
    "Resterende GEDI-shots om te visualiseren"
   ]
  },
  {
   "cell_type": "code",
   "execution_count": null,
   "id": "92ba9b48-c529-4974-96b9-5247cdb6cde4",
   "metadata": {},
   "outputs": [],
   "source": [
    "allDF = allDF.dropna()  # Drop shots outside of the ROI\n",
    "len(allDF)"
   ]
  },
  {
   "cell_type": "markdown",
   "id": "7ff8f86f-0bbf-496c-95c3-e81a48d31b16",
   "metadata": {},
   "source": [
    "## Kwaliteitsfiltering"
   ]
  },
  {
   "cell_type": "markdown",
   "id": "e849580a-4472-472e-b964-1345c2e5100d",
   "metadata": {},
   "source": [
    "GEDI bevat zelf enkele 'kwaliteits'-indicatoren, waarop de dataset gefilterd kan worden. Hierbij worden de shot-opnames die vermoedelijk een lage kwaliteit hebben gefilterd uit de dataset, zodat enkel de bruikbare data overblijft"
   ]
  },
  {
   "cell_type": "code",
   "execution_count": null,
   "id": "7e7f2446-d59a-4c0d-a12c-b960c016377d",
   "metadata": {},
   "outputs": [],
   "source": [
    "# Set any poor quality returns to NaN\n",
    "allDF = allDF.where(allDF['Quality Flag'].ne(0))\n",
    "allDF = allDF.where(allDF['Degrade Flag'] < 1) \n",
    "allDF = allDF.where(allDF['Sensitivity'] > 0.95)\n",
    "allDF = allDF.dropna()\n",
    "print('Resterend aantal GEDI-shots na kwaliteitsfiltering: ', len(allDF))"
   ]
  },
  {
   "cell_type": "code",
   "execution_count": null,
   "id": "6998521b-055e-4820-962f-f337716f0e01",
   "metadata": {},
   "outputs": [],
   "source": [
    "allDF['geometry'] = allDF.apply(lambda row: Point(row.Longitude, row.Latitude), axis=1)"
   ]
  },
  {
   "cell_type": "code",
   "execution_count": null,
   "id": "015674fe-5b41-41e1-9b0c-8215ad3babc6",
   "metadata": {},
   "outputs": [],
   "source": [
    "# Convert to geodataframe\n",
    "allDF = gp.GeoDataFrame(allDF)\n",
    "allDF = allDF.drop(columns=['Latitude','Longitude'])"
   ]
  },
  {
   "cell_type": "code",
   "execution_count": null,
   "id": "f70638e7-eee4-495a-996e-45df19c85592",
   "metadata": {},
   "outputs": [],
   "source": [
    "allDF['Shot Number'] = allDF['Shot Number'].astype(str)  # Convert shot number to string\n",
    "\n",
    "vdims = []\n",
    "for f in allDF:\n",
    "    if f not in ['geometry']:\n",
    "        vdims.append(f)\n",
    "\n",
    "visual = pointVisual(allDF, vdims = vdims)\n",
    "visual * gv.Polygons(Mangrove_ROI['geometry']).opts(line_color='red', color=None)"
   ]
  },
  {
   "cell_type": "markdown",
   "id": "a843a375-f0bc-4c03-afb0-564048aae8df",
   "metadata": {},
   "source": [
    "### Plot maken van de Canopy Height"
   ]
  },
  {
   "cell_type": "code",
   "execution_count": null,
   "id": "0208c1ae-631b-48ee-b93d-ecc7a63e3207",
   "metadata": {},
   "outputs": [],
   "source": [
    "# Plot the basemap and geoviews Points, defining the color as the Canopy Height for each shot\n",
    "(gvts.EsriImagery * gv.Points(allDF, vdims=vdims).options(color='Canopy Height (rh100)',cmap='plasma', size=3, tools=['hover'],\n",
    "                                                          clim=(0,40), colorbar=True, clabel='Meters',\n",
    "                                                          title='GEDI Canopy Height over Redwood National Park: June 19, 2019',\n",
    "                                                          fontsize={'xticks': 10, 'yticks': 10, 'xlabel':16, 'clabel':12,\n",
    "                                                                    'cticks':10,'title':16,'ylabel':16})).options(height=500,\n",
    "                                                                                                                  width=900)"
   ]
  }
 ],
 "metadata": {
  "kernelspec": {
   "display_name": "Python 3 (ipykernel)",
   "language": "python",
   "name": "python3"
  },
  "language_info": {
   "codemirror_mode": {
    "name": "ipython",
    "version": 3
   },
   "file_extension": ".py",
   "mimetype": "text/x-python",
   "name": "python",
   "nbconvert_exporter": "python",
   "pygments_lexer": "ipython3",
   "version": "3.11.4"
  }
 },
 "nbformat": 4,
 "nbformat_minor": 5
}
